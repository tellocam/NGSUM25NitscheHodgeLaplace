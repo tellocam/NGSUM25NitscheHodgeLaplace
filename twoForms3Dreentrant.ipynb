{
 "cells": [
  {
   "cell_type": "code",
   "execution_count": 29,
   "metadata": {},
   "outputs": [],
   "source": [
    "# Import\n",
    "\n",
    "from ngsolve import *\n",
    "from ngsolve.webgui import Draw\n",
    "from netgen.occ import *\n",
    "from ngsolve.solvers import GMRes"
   ]
  },
  {
   "cell_type": "code",
   "execution_count": 30,
   "metadata": {},
   "outputs": [],
   "source": [
    "# Geometry\n",
    "\n",
    "def createReentrantCornerGeometry(hmax):\n",
    "\n",
    "    largeBrick = Box(Pnt(-0.5, -0.5,-0.5), Pnt(0.5, 0.5, 0.5))\n",
    "    smallBrick = Box(Pnt(-0.5, -0.5,-0.5), Pnt(0, 0, 0))\n",
    "\n",
    "    reentrantCornerGeo3D = largeBrick - smallBrick\n",
    "    \n",
    "    reentrantCornerGeo3D.faces.Min(X).name = \"minX\"\n",
    "    reentrantCornerGeo3D.faces.Max(X).name = \"maxX\"\n",
    "    reentrantCornerGeo3D.faces.Min(Y).name = \"minY\"\n",
    "    reentrantCornerGeo3D.faces.Max(Y).name = \"maxY\"\n",
    "    reentrantCornerGeo3D.faces.Min(Z).name = \"minZ\"\n",
    "    reentrantCornerGeo3D.faces.Max(Z).name = \"maxZ\"\n",
    "\n",
    "    mesh = Mesh(OCCGeometry(reentrantCornerGeo3D).GenerateMesh(maxh=hmax))\n",
    "\n",
    "    return mesh"
   ]
  },
  {
   "cell_type": "code",
   "execution_count": null,
   "metadata": {},
   "outputs": [],
   "source": [
    "# 3D Nitsche Hodge Laplace 2-forms function \n",
    "\n",
    "useGMRes = True # if set to False, PARDISO is used\n",
    "\n",
    "def hodgeLaplace2Forms(mesh,\n",
    "                       f = CF((0,0,0)), # right han side f\n",
    "                       order = 1,\n",
    "                       C_w = 1, # Nitsche penalization weight parameter\n",
    "                       dirichletBnd = None, # list of Dirichlet boundary names\n",
    "                       gOnDirichletBnd = None, # list of Dirichlet values on Dirichlet boundaries\n",
    "                       ):\n",
    "    \n",
    "    H_curl = HCurl(mesh, order=order, type1=True)  # For 1-forms, H(curl) space\n",
    "    H_div = HDiv(mesh, order=order-1, RT=True)     # For 2-forms, H(div) space\n",
    "    fes = H_curl * H_div  # product / compound space\n",
    "    (p, u), (q, v) = fes.TnT()\n",
    "\n",
    "    n = specialcf.normal(mesh.dim)\n",
    "    h = specialcf.mesh_size             \n",
    "        \n",
    "    B, F  = BilinearForm(fes), LinearForm(fes)\n",
    "\n",
    "    B += curl(p) * v * dx\n",
    "    B += div(u) * div(v) * dx\n",
    "    B += curl(q) * u * dx\n",
    "    B += - p * q * dx\n",
    "\n",
    "    F += f * v * dx\n",
    "    \n",
    "    for boundary_name, boundary_g in zip(dirichletBnd, gOnDirichletBnd):\n",
    "        dS_dirichlet = ds(skeleton=True, definedon=mesh.Boundaries(boundary_name))\n",
    "        B += (C_w/h) * (v*n) * (u*n) * dS_dirichlet\n",
    "        B += - div(u) * (v*n) * dS_dirichlet\n",
    "        B += - div(v) * (u*n) * dS_dirichlet\n",
    "\n",
    "        F += - div(v) * (boundary_g*n) * dS_dirichlet\n",
    "        F += (C_w/h) * (boundary_g*n) * (v*n) * dS_dirichlet\n",
    "        F += Cross(n, q) * boundary_g * dS_dirichlet\n",
    "    \n",
    "    with TaskManager(): \n",
    "        if (useGMRes == False):\n",
    "            B.Assemble()\n",
    "            F.Assemble()\n",
    "            sol = GridFunction(fes)\n",
    "            res = F.vec-B.mat * sol.vec\n",
    "            inv = B.mat.Inverse(freedofs=fes.FreeDofs(), inverse=\"pardiso\")\n",
    "            sol.vec.data += inv * res\n",
    "        else:\n",
    "            B.Assemble()\n",
    "            F.Assemble()\n",
    "            sol = GridFunction(fes)\n",
    "            blocks = fes.CreateSmoothingBlocks()\n",
    "            prebj = B.mat.CreateBlockSmoother(blocks)   # Block Jacobi preconditioner\n",
    "            GMRes(A =B.mat,x= sol.vec, b=F.vec,pre = prebj,  printrates=\"\\r\", maxsteps = 10000, tol=1e-8)\n",
    "\n",
    "    gf_p , gf_u = sol.components\n",
    "    \n",
    "    return gf_u, gf_p"
   ]
  },
  {
   "cell_type": "code",
   "execution_count": 32,
   "metadata": {},
   "outputs": [
    {
     "name": "stdout",
     "output_type": "stream",
     "text": [
      "('minX', 'minY', 'maxZ', 'maxY', 'minZ', 'default', 'default', 'maxX', 'default')\n",
      "\u001b[2KGMRes converged in 85 iterations to residual 7.632845278063112e-09\n"
     ]
    },
    {
     "data": {
      "application/vnd.jupyter.widget-view+json": {
       "model_id": "d83bdc3875a845da997f7e914c87a4f3",
       "version_major": 2,
       "version_minor": 0
      },
      "text/plain": [
       "WebGuiWidget(layout=Layout(height='5vh', width='100%'), value={'gui_settings': {}, 'ngsolve_version': '6.2.240…"
      ]
     },
     "metadata": {},
     "output_type": "display_data"
    },
    {
     "data": {
      "text/plain": [
       "BaseWebGuiScene"
      ]
     },
     "execution_count": 32,
     "metadata": {},
     "output_type": "execute_result"
    }
   ],
   "source": [
    "\n",
    "mesh = createReentrantCornerGeometry(0.1)\n",
    "C_w = 1000 # Nitsche penalization weight parameter\n",
    "order = 2\n",
    "\n",
    "n = specialcf.normal(mesh.dim)\n",
    "t = specialcf.tangential(mesh.dim)\n",
    "\n",
    "zero = CF((0,0,0))\n",
    "\n",
    "print(mesh.GetBoundaries())\n",
    "\n",
    "bndList = ['minX', 'minY', 'minZ',  'maxY', 'maxX', 'maxZ', 'default'] # list of Dirichlet boundary names\n",
    "gList = [-0.1*n, 0.1*n, 0.1*n, zero, zero, zero, zero]   # list of Dirichlet values on Dirichlet boundaries\n",
    "\n",
    "f = 1 * CF((3, -3, -3)) # right hand side f\n",
    "\n",
    "gfu, gfp = hodgeLaplace2Forms(mesh, f, order, C_w, bndList, gList)\n",
    "clipping ={\"pnt\":(0,0,-0.01), \"function\":True, \"vec\":(0,0,-1)}\n",
    "Draw(gfu, mesh, clipping=clipping)\n"
   ]
  }
 ],
 "metadata": {
  "kernelspec": {
   "display_name": "Python (academic venv)",
   "language": "python",
   "name": "myenv"
  },
  "language_info": {
   "codemirror_mode": {
    "name": "ipython",
    "version": 3
   },
   "file_extension": ".py",
   "mimetype": "text/x-python",
   "name": "python",
   "nbconvert_exporter": "python",
   "pygments_lexer": "ipython3",
   "version": "3.8.10"
  }
 },
 "nbformat": 4,
 "nbformat_minor": 2
}
