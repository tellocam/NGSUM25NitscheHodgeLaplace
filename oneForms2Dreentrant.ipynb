{
 "cells": [
  {
   "cell_type": "code",
   "execution_count": 21,
   "id": "9e0e51e9",
   "metadata": {},
   "outputs": [],
   "source": [
    "# Import\n",
    "\n",
    "from ngsolve import *\n",
    "from ngsolve.meshes import MakeStructured2DMesh\n",
    "from ngsolve.webgui import Draw\n",
    "from netgen.occ import *\n",
    "from netgen.geom2d import SplineGeometry"
   ]
  },
  {
   "cell_type": "code",
   "execution_count": 22,
   "id": "0894a72e",
   "metadata": {},
   "outputs": [],
   "source": [
    "# Nitsche Hodge Laplace Method for 1-forms\n",
    "\n",
    "def hodgeLaplace1Forms(mesh,\n",
    "                       f = CF((0,0)), # this is the right hand side f\n",
    "                       order = 1,\n",
    "                       C_w = 1,\n",
    "                       dirichletBnd = None,\n",
    "                       gOnDirichletBnd = None,\n",
    "                       ): \n",
    "\n",
    "    hcurl = HCurl(mesh, order=order, type1=True)  # For 1-forms, H(curl) space\n",
    "    h1 = H1(mesh, order=order)     # For 0-forms, H1 space\n",
    "    fes = h1 * hcurl\n",
    "    (p, u), (q, v) = fes.TnT()\n",
    "\n",
    "    n = specialcf.normal(mesh.dim)\n",
    "    t = specialcf.tangential(mesh.dim)\n",
    "    h = specialcf.mesh_size\n",
    "    \n",
    "    gamma_n_u = -curl(u)*t\n",
    "    gamma_n_v = -curl(v)*t\n",
    "\n",
    "    gamma_p_v = v - n*(v*n)\n",
    "    gamma_p_u = u - n*(u*n)\n",
    "\n",
    "    B, F  = BilinearForm(fes), LinearForm(fes)\n",
    "    \n",
    "    B += curl(u) * curl(v) * dx\n",
    "    B += grad(p) * v * dx\n",
    "    B += u * grad(q) * dx\n",
    "    B += - p * q * dx\n",
    "\n",
    "    F += f * v * dx\n",
    "\n",
    "    for boundary_name, boundary_g in zip(dirichletBnd, gOnDirichletBnd):\n",
    "        dS_dirichlet = ds(skeleton=True, definedon=mesh.Boundaries(boundary_name))\n",
    "        gamma_p_g = boundary_g - n*(boundary_g*n)\n",
    "\n",
    "        F += (C_w/h) * gamma_p_g * gamma_p_v * dS_dirichlet\n",
    "        F += gamma_n_v * gamma_p_g * dS_dirichlet\n",
    "        F += (boundary_g*n) * q * ds(definedon=mesh.Boundaries(boundary_name))\n",
    "        \n",
    "        B += (C_w/h) * gamma_p_u * gamma_p_v * dS_dirichlet\n",
    "        B += gamma_n_v * gamma_p_u * dS_dirichlet\n",
    "        B += gamma_p_v * gamma_n_u * dS_dirichlet\n",
    "\n",
    "    with TaskManager():\n",
    "        B.Assemble()\n",
    "        F.Assemble()\n",
    "        sol = GridFunction(fes)\n",
    "        res = F.vec-B.mat * sol.vec\n",
    "        inv = B.mat.Inverse(freedofs=fes.FreeDofs(), inverse=\"pardiso\")\n",
    "        sol.vec.data += inv * res\n",
    "        gf_p , gf_u = sol.components\n",
    "        \n",
    "    return gf_u, gf_p"
   ]
  },
  {
   "cell_type": "code",
   "execution_count": 23,
   "id": "7c793d80",
   "metadata": {},
   "outputs": [],
   "source": [
    "# Create geometry\n",
    "\n",
    "def createReEntrantCornerGeo(h, x_offset, y_offset):\n",
    "    wp = WorkPlane()\n",
    "    wp.MoveTo(0+x_offset, 0+y_offset)\n",
    "    wp.LineTo(0+x_offset, -0.5+y_offset, name=\"reEntrantVertical\")\n",
    "    wp.LineTo(0.5+x_offset, -0.5+y_offset, name=\"bottom\")\n",
    "    wp.LineTo(0.5+x_offset, 0.5+y_offset, name=\"right\")\n",
    "    wp.LineTo(-0.5+x_offset, 0.5+y_offset, name=\"top\")\n",
    "    wp.LineTo(-0.5+x_offset, 0+y_offset, name=\"left\")\n",
    "    wp.LineTo(0+x_offset, 0+y_offset, name=\"reEntrantHorizontal\")\n",
    "    wp.Close()\n",
    "    shape = wp.Face()\n",
    "\n",
    "    geometry = OCCGeometry(shape, dim=2)\n",
    "    reEntrantCornerGeo = Mesh(geometry.GenerateMesh(maxh=h))\n",
    "    return reEntrantCornerGeo"
   ]
  },
  {
   "cell_type": "code",
   "execution_count": 24,
   "id": "fc961ce7",
   "metadata": {},
   "outputs": [],
   "source": [
    "mesh = createReEntrantCornerGeo(0.05, 0, 0)\n",
    "t, n = specialcf.tangential(mesh.dim), specialcf.normal(mesh.dim)\n",
    "\n",
    "C_w = 100\n",
    "order = 2\n",
    "\n",
    "f_HL = 1 * CF((3, -3))\n",
    "bndList_HL = [\"left\", \"bottom\", \"top\", \"right\", \"reEntrantVertical\", \"reEntrantHorizontal\"]\n",
    "gList_HL = [-0.1*n, 0.1*n, CF((0,0)), CF((0,0)), CF((0,0)), CF((0,0))]\n",
    "\n",
    "gfu, gfp = hodgeLaplace1Forms(mesh, f_HL, order, C_w, bndList_HL, gList_HL)"
   ]
  },
  {
   "cell_type": "code",
   "execution_count": 25,
   "id": "17f1ce56",
   "metadata": {},
   "outputs": [
    {
     "data": {
      "application/vnd.jupyter.widget-view+json": {
       "model_id": "2ac8fd71a8734178be1669ca34515031",
       "version_major": 2,
       "version_minor": 0
      },
      "text/plain": [
       "WebGuiWidget(layout=Layout(height='5vh', width='100%'), value={'gui_settings': {}, 'ngsolve_version': '6.2.240…"
      ]
     },
     "metadata": {},
     "output_type": "display_data"
    },
    {
     "data": {
      "text/plain": [
       "BaseWebGuiScene"
      ]
     },
     "execution_count": 25,
     "metadata": {},
     "output_type": "execute_result"
    }
   ],
   "source": [
    "Draw(gfu)"
   ]
  }
 ],
 "metadata": {
  "kernelspec": {
   "display_name": "Python (academic venv)",
   "language": "python",
   "name": "myenv"
  },
  "language_info": {
   "codemirror_mode": {
    "name": "ipython",
    "version": 3
   },
   "file_extension": ".py",
   "mimetype": "text/x-python",
   "name": "python",
   "nbconvert_exporter": "python",
   "pygments_lexer": "ipython3",
   "version": "3.8.10"
  }
 },
 "nbformat": 4,
 "nbformat_minor": 5
}
